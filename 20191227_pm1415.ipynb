{
 "cells": [
  {
   "cell_type": "markdown",
   "metadata": {},
   "source": [
    "## 논리 연산 및 비교 연산\n",
    "조건에 따라 달라지는 다양한 경우\n",
    "1. 논리 연산(logical operation/boolean operation)\n",
    "> 다양한 조건에 따라 코드가 다르게 실행되도록  작성   \n",
    "> 만족하면 참, 만족하지 않으면 거짓\n",
    "\n",
    "2. TRUE X True O ※대소문자구분\n",
    "> 논리연산을 위한 데이터타입: bool\n",
    "- - - - -"
   ]
  },
  {
   "cell_type": "code",
   "execution_count": 1,
   "metadata": {},
   "outputs": [
    {
     "name": "stdout",
     "output_type": "stream",
     "text": [
      "True\n"
     ]
    }
   ],
   "source": [
    "print(True)"
   ]
  },
  {
   "cell_type": "code",
   "execution_count": 2,
   "metadata": {},
   "outputs": [
    {
     "name": "stdout",
     "output_type": "stream",
     "text": [
      "False\n"
     ]
    }
   ],
   "source": [
    "print(False)"
   ]
  },
  {
   "cell_type": "code",
   "execution_count": 3,
   "metadata": {},
   "outputs": [
    {
     "name": "stdout",
     "output_type": "stream",
     "text": [
      "True\n"
     ]
    }
   ],
   "source": [
    "print(True or False)"
   ]
  },
  {
   "cell_type": "code",
   "execution_count": 4,
   "metadata": {},
   "outputs": [
    {
     "name": "stdout",
     "output_type": "stream",
     "text": [
      "False\n"
     ]
    }
   ],
   "source": [
    "print(True and False)"
   ]
  },
  {
   "cell_type": "code",
   "execution_count": 5,
   "metadata": {},
   "outputs": [
    {
     "data": {
      "text/plain": [
       "bool"
      ]
     },
     "execution_count": 5,
     "metadata": {},
     "output_type": "execute_result"
    }
   ],
   "source": [
    "type(True)"
   ]
  },
  {
   "cell_type": "markdown",
   "metadata": {},
   "source": [
    "### 논리연산\n",
    "1. **논리곱(and)**: 두 개의 불 데이터가 모두 참일 때만 참이고 나머지는 거짓\n",
    "2. **논리곱(or)**: 두 개의 불 데이터가 하나라도 참이면 둘 다 거짓이면 거짓\n",
    "3. **논리부정(not)**: 하나의 불 데이터가 참이면 거짓이고 거짓이면 참"
   ]
  },
  {
   "cell_type": "code",
   "execution_count": 6,
   "metadata": {},
   "outputs": [
    {
     "data": {
      "text/plain": [
       "False"
      ]
     },
     "execution_count": 6,
     "metadata": {},
     "output_type": "execute_result"
    }
   ],
   "source": [
    "not True"
   ]
  },
  {
   "cell_type": "code",
   "execution_count": 7,
   "metadata": {},
   "outputs": [
    {
     "data": {
      "text/plain": [
       "True"
      ]
     },
     "execution_count": 7,
     "metadata": {},
     "output_type": "execute_result"
    }
   ],
   "source": [
    "not False"
   ]
  },
  {
   "cell_type": "markdown",
   "metadata": {},
   "source": [
    "### 비교 연산   \n",
    "###### bool 데이터로 결과가 나와서 논리연산자와 같이 쓰임  \n",
    "==  \n",
    "!=  \n",
    "<  \n",
    "\\>  \n",
    "\\<= a는 b보다 같거나 작다  \n",
    "\\>= =가 두번째임. a는 b보다 같거나 크다   "
   ]
  },
  {
   "cell_type": "code",
   "execution_count": 8,
   "metadata": {},
   "outputs": [],
   "source": [
    "a=3\n",
    "b=4"
   ]
  },
  {
   "cell_type": "code",
   "execution_count": 9,
   "metadata": {},
   "outputs": [
    {
     "name": "stdout",
     "output_type": "stream",
     "text": [
      "False\n",
      "True\n",
      "True\n",
      "False\n",
      "True\n",
      "False\n"
     ]
    }
   ],
   "source": [
    "print(a==b)\n",
    "print(a!=b)\n",
    "print(a<b)\n",
    "print(a>b)\n",
    "print(a<=b)\n",
    "print(a>=b)"
   ]
  },
  {
   "cell_type": "code",
   "execution_count": 10,
   "metadata": {},
   "outputs": [
    {
     "name": "stdout",
     "output_type": "stream",
     "text": [
      "True\n"
     ]
    }
   ],
   "source": [
    "print(1>0 and -2<0)"
   ]
  },
  {
   "cell_type": "code",
   "execution_count": 11,
   "metadata": {},
   "outputs": [
    {
     "name": "stdout",
     "output_type": "stream",
     "text": [
      "False\n"
     ]
    }
   ],
   "source": [
    "print((3<0) and ((-5>0) and (1>5)))"
   ]
  },
  {
   "cell_type": "code",
   "execution_count": 12,
   "metadata": {},
   "outputs": [
    {
     "name": "stdout",
     "output_type": "stream",
     "text": [
      "True\n"
     ]
    }
   ],
   "source": [
    "print((3>0) or ((-5>0) and (1>5)))"
   ]
  },
  {
   "cell_type": "code",
   "execution_count": 13,
   "metadata": {},
   "outputs": [
    {
     "name": "stdout",
     "output_type": "stream",
     "text": [
      "False\n"
     ]
    }
   ],
   "source": [
    "print(((3>0) or (-5>0)) and ((4>8 or (3<0))))"
   ]
  },
  {
   "cell_type": "markdown",
   "metadata": {},
   "source": [
    "백문이불여일견 百聞不如一見  \n",
    "백견불이RUN 百見百不如一 RUN  \n",
    "100번 보느니 1번 Run하는 것만도 못하다"
   ]
  },
  {
   "cell_type": "markdown",
   "metadata": {},
   "source": [
    "## 3장 끝\n",
    "-------"
   ]
  },
  {
   "cell_type": "markdown",
   "metadata": {},
   "source": [
    "# 4장 변수와 자료형  \n",
    "1. **variable(변수)** = 데이터(data)를 넣을 수 있는 상자\n",
    "2. 변수명(변수 이름) = 상자에 뭍인 이름. 컴퓨터 임시 저장 공간(memory)에 저장 \n",
    "3. 등호(=)를 이용해 변수에 자료를 할당 \n",
    "예) 변수명 = data\n",
    "4. 변수명과 등호, 등호와 data 사이의 공백(  ) 무시\n",
    "5. 데이터가 할당된 변수 이용하려면 변수명만 쓰면 됨"
   ]
  },
  {
   "cell_type": "markdown",
   "metadata": {},
   "source": [
    "### 변수 만들 때 규칙\n",
    "1. 문자, 숫자, 밑줄기호( \\_ , underbar) 이용 \n",
    "2. 숫자로 시작할 수 없다\n",
    "3. 대소문자를 구별한다\n",
    "4. 공백을 포함할수없다( \\_ )\n",
    "5. 밑줄 이외의 기호(%,#,&,^,\\*) 등은 변수명이 될 수 없다.\n",
    "6. 예악어(Reserved word)는 쓸 수 없다 (**굵은 초록색으로 뜸**)\n",
    "> None, True, False, and, as, assert, break, class, continue, def, del ,elfi, else, except, finally, for, from, global, if, import in, is, lambda,nonlocal, not, or, pass, raise,return,try,while,with,yield"
   ]
  },
  {
   "cell_type": "code",
   "execution_count": 14,
   "metadata": {},
   "outputs": [],
   "source": [
    "alpha=3"
   ]
  },
  {
   "cell_type": "code",
   "execution_count": 15,
   "metadata": {},
   "outputs": [
    {
     "ename": "SyntaxError",
     "evalue": "invalid syntax (<ipython-input-15-e03b56cdbfd8>, line 1)",
     "output_type": "error",
     "traceback": [
      "\u001b[1;36m  File \u001b[1;32m\"<ipython-input-15-e03b56cdbfd8>\"\u001b[1;36m, line \u001b[1;32m1\u001b[0m\n\u001b[1;33m    lambda=2\u001b[0m\n\u001b[1;37m          ^\u001b[0m\n\u001b[1;31mSyntaxError\u001b[0m\u001b[1;31m:\u001b[0m invalid syntax\n"
     ]
    }
   ],
   "source": [
    "lambda=2"
   ]
  },
  {
   "cell_type": "markdown",
   "metadata": {},
   "source": [
    "### 문자열\n",
    "쉬는 시간 끝나고 시작"
   ]
  }
 ],
 "metadata": {
  "kernelspec": {
   "display_name": "Python 3",
   "language": "python",
   "name": "python3"
  },
  "language_info": {
   "codemirror_mode": {
    "name": "ipython",
    "version": 3
   },
   "file_extension": ".py",
   "mimetype": "text/x-python",
   "name": "python",
   "nbconvert_exporter": "python",
   "pygments_lexer": "ipython3",
   "version": "3.6.9"
  }
 },
 "nbformat": 4,
 "nbformat_minor": 2
}
