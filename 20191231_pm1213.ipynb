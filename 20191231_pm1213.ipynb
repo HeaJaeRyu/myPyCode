{
 "cells": [
  {
   "cell_type": "markdown",
   "metadata": {},
   "source": [
    "### 문자열 바꾸기\n",
    "`replace` 메서드 이용 \n",
    "\n",
    "\n",
    "`str.replace(old, new[, count])`"
   ]
  },
  {
   "cell_type": "code",
   "execution_count": 9,
   "metadata": {},
   "outputs": [],
   "source": [
    "str_a = 'Python is fast. Python is friendly. Python is open.'"
   ]
  },
  {
   "cell_type": "code",
   "execution_count": 10,
   "metadata": {},
   "outputs": [
    {
     "name": "stdout",
     "output_type": "stream",
     "text": [
      "IPython is fast. IPython is friendly. IPython is open.\n"
     ]
    }
   ],
   "source": [
    "print(str_a.replace('Python','IPython'))"
   ]
  },
  {
   "cell_type": "code",
   "execution_count": 13,
   "metadata": {},
   "outputs": [
    {
     "name": "stdout",
     "output_type": "stream",
     "text": [
      "iPython is fast. Python is friendly. Python is open.\n"
     ]
    }
   ],
   "source": [
    "print(str_a.replace('Python','iPython',1))"
   ]
  },
  {
   "cell_type": "code",
   "execution_count": 18,
   "metadata": {},
   "outputs": [
    {
     "data": {
      "text/plain": [
       "'Python is fast'"
      ]
     },
     "execution_count": 18,
     "metadata": {},
     "output_type": "execute_result"
    }
   ],
   "source": [
    "str_b = '[Python] [is] [fast]'\n",
    "str_b.replace('[', '').replace(']', '')"
   ]
  },
  {
   "cell_type": "markdown",
   "metadata": {},
   "source": [
    "### 문자열의 구성 확인하기 \n",
    "\n",
    "메서드 | 설명 | 사용예\n",
    "---|---|---\n",
    "`isalpha()` | 문자열이 숫자, 특수 문자, 공백이 아닌 문자열로 구성되어 있을 때만 `True`, 그 밖에는 `False`반환 | `str.isalpha()`\n",
    "`isdigit()` | 문자열이 모두 숫자로 구성되어 있을 때만 `True`, 그 밖에는 `False`반환 | `str.isdigit()`\n",
    "`isalnum()` | 문자열이 특수 문자나 공백이 아닌 문자와 숫자로 구성되어 있을 때만 `True`, 그 밖에는 `False`반환 | `str.isalnum()`\n",
    "`isspace()` | 문자열이 모두 공백 문자로 구성되어 있을 때만 `True`, 그 밖에는 `False`반환 | `str.isspace()`\n",
    "`isupper()` | 문자열이 모두 로마자 대문자로 구성되어 있을 때만 `True`, 그 밖에는 `False`반환 | `str.islower()`\n",
    "`islower()` | 문자열이 모두 로마자 소문자로 구성되어 있을 때만 `True`, 그 밖에는 `False`반환 | `str.islower()`\n"
   ]
  },
  {
   "cell_type": "markdown",
   "metadata": {},
   "source": [
    "`isalpha()` : 문자열이 숫자, 특수 문자, 공백이 아닌 문자로 구성되어 있을 때 "
   ]
  },
  {
   "cell_type": "code",
   "execution_count": 1,
   "metadata": {},
   "outputs": [
    {
     "name": "stdout",
     "output_type": "stream",
     "text": [
      "True\n",
      "False\n"
     ]
    }
   ],
   "source": [
    "print('Python'.isalpha()) # 문자열에 공백, 특수 문자, 숫자가 없음\n",
    "print('Ver. 3.x'.isalpha()) # 공백, 특수 문자, 숫자 중 하나가 있음"
   ]
  },
  {
   "cell_type": "markdown",
   "metadata": {},
   "source": [
    "`isdigit()` 숫자로만 구성됨"
   ]
  },
  {
   "cell_type": "code",
   "execution_count": 2,
   "metadata": {},
   "outputs": [
    {
     "name": "stdout",
     "output_type": "stream",
     "text": [
      "True\n",
      "False\n"
     ]
    }
   ],
   "source": [
    "print('12345'.isdigit()) # 문자열이 모두 숫자로 구성됨\n",
    "print('12345abc'.isdigit())# 문자열이 숫자로만 구성되지 않음"
   ]
  },
  {
   "cell_type": "markdown",
   "metadata": {},
   "source": [
    "`isalnum()` alpha-numeric"
   ]
  },
  {
   "cell_type": "code",
   "execution_count": 3,
   "metadata": {},
   "outputs": [
    {
     "name": "stdout",
     "output_type": "stream",
     "text": [
      "True\n",
      "False\n"
     ]
    }
   ],
   "source": [
    "print('abc1234'.isalnum()) # 특수 문자나 공백이 아닌 문자와 숫자로 구성됨\n",
    "print('   abc1234'.isalnum()) # 문자열에 공백이 있음"
   ]
  },
  {
   "cell_type": "markdown",
   "metadata": {},
   "source": [
    "`isspace()` 공백만 있어야 함"
   ]
  },
  {
   "cell_type": "code",
   "execution_count": 4,
   "metadata": {},
   "outputs": [
    {
     "name": "stdout",
     "output_type": "stream",
     "text": [
      "True\n",
      "False\n"
     ]
    }
   ],
   "source": [
    "print('   '.isspace()) # 문자열이 공백으로만 구성됨\n",
    "print(' 1 '.isspace()) # 문자열에 공백 외에 다른 문자가 있음"
   ]
  },
  {
   "cell_type": "markdown",
   "metadata": {},
   "source": [
    "모두 대문자거나, 모두 소문자거나 a.k.a. `isupper()`, `islower()`"
   ]
  },
  {
   "cell_type": "code",
   "execution_count": 5,
   "metadata": {},
   "outputs": [
    {
     "name": "stdout",
     "output_type": "stream",
     "text": [
      "True\n",
      "False\n",
      "True\n",
      "False\n"
     ]
    }
   ],
   "source": [
    "print('PYTHON'.isupper()) # 문자열이 모두 대문자로 구성됨\n",
    "print('Python'.isupper()) # 문자열에 대문자와 소문자가 있음\n",
    "print('python'.islower()) # 문자열이 모두 소문자로 구성됨\n",
    "print('Python'.islower()) # 문자열에 대문자와 소문자가 있음"
   ]
  },
  {
   "cell_type": "markdown",
   "metadata": {},
   "source": [
    "### 대소문자로 구분하기 \n",
    "`lower()` 모두 소문자로  &  `upper()`모두 대문자로 "
   ]
  },
  {
   "cell_type": "code",
   "execution_count": 6,
   "metadata": {},
   "outputs": [
    {
     "name": "stdout",
     "output_type": "stream",
     "text": [
      "python is powerful. python is easy to learn.\n",
      "PYTHON IS POWERFUL. PYTHON IS EASY TO LEARN.\n"
     ]
    }
   ],
   "source": [
    "string1 =  'Python is powerful. PYTHON IS EASY TO LEARN.'\n",
    "print(string1.lower())\n",
    "print(string1.upper())"
   ]
  },
  {
   "cell_type": "code",
   "execution_count": 7,
   "metadata": {},
   "outputs": [
    {
     "data": {
      "text/plain": [
       "False"
      ]
     },
     "execution_count": 7,
     "metadata": {},
     "output_type": "execute_result"
    }
   ],
   "source": [
    "'Python' == 'python'"
   ]
  },
  {
   "cell_type": "code",
   "execution_count": 8,
   "metadata": {},
   "outputs": [
    {
     "name": "stdout",
     "output_type": "stream",
     "text": [
      "True\n",
      "True\n"
     ]
    }
   ],
   "source": [
    "print('Python'.lower() == 'python'.lower())\n",
    "print('Python'.upper() == 'python'.upper())"
   ]
  },
  {
   "cell_type": "markdown",
   "metadata": {},
   "source": [
    "## 9.2 텍스트 파일의 데이터를 읽고 처리하기\n",
    "* 데이터 예제: 어느 커피 전문점에서 나흘 동안 기록한 메뉴벌 커피 판매량 \n",
    "* 하려는 작업: 나흘 동안 메뉴당 전체 판매량과 하루 평균 판매량 구하기"
   ]
  },
  {
   "cell_type": "markdown",
   "metadata": {},
   "source": [
    "### 9.2.1 데이터 파일 준비 및 읽기"
   ]
  },
  {
   "cell_type": "code",
   "execution_count": 1,
   "metadata": {},
   "outputs": [
    {
     "name": "stdout",
     "output_type": "stream",
     "text": [
      "날짜    에스프레소  아메리카노  카페라테  카푸치노\n",
      "10.15       10  \t50         45       20   \n",
      "10.16       12\t\t45         41       18\n",
      "10.17       11\t\t53         32       25\n",
      "10.18       15\t\t49         38       22\n"
     ]
    }
   ],
   "source": [
    "!type c:\\myPyCode\\data\\coffeeShopSales.txt"
   ]
  },
  {
   "cell_type": "code",
   "execution_count": 2,
   "metadata": {},
   "outputs": [
    {
     "name": "stdout",
     "output_type": "stream",
     "text": [
      "날짜    에스프레소  아메리카노  카페라테  카푸치노\n",
      "10.15       10  \t50         45       20   \n",
      "10.16       12\t\t45         41       18\n",
      "10.17       11\t\t53         32       25\n",
      "10.18       15\t\t49         38       22"
     ]
    }
   ],
   "source": [
    "# file_name = 'c:\\myPyCode\\data\\coffeeShopSales.txt' \n",
    "file_name = 'c:/myPyCode/data/coffeeShopSales.txt' \n",
    "\n",
    "f = open(file_name)      # 파일 열기\n",
    "for line in f:           # 한 줄씩 읽기\n",
    "    print(line, end='')  # 한 줄씩 출력\n",
    "f.close()                # 파일 닫기"
   ]
  },
  {
   "cell_type": "markdown",
   "metadata": {},
   "source": [
    "## 9.2.2 파일에서 읽은 문자열 데이터 처리"
   ]
  },
  {
   "cell_type": "markdown",
   "metadata": {},
   "source": [
    "첫 번째 줄의 항목 이름을 가져오는 코드"
   ]
  },
  {
   "cell_type": "code",
   "execution_count": 3,
   "metadata": {},
   "outputs": [
    {
     "data": {
      "text/plain": [
       "'날짜    에스프레소  아메리카노  카페라테  카푸치노\\n'"
      ]
     },
     "execution_count": 3,
     "metadata": {},
     "output_type": "execute_result"
    }
   ],
   "source": [
    "f = open(file_name)   # 파일 열기\n",
    "header = f.readline() # 데이터의 첫 번째 줄을 읽음\n",
    "f.close()             # 파일 닫기\n",
    "\n",
    "header"
   ]
  },
  {
   "cell_type": "code",
   "execution_count": 5,
   "metadata": {},
   "outputs": [
    {
     "data": {
      "text/plain": [
       "['날짜', '에스프레소', '아메리카노', '카페라테', '카푸치노']"
      ]
     },
     "execution_count": 5,
     "metadata": {},
     "output_type": "execute_result"
    }
   ],
   "source": [
    "header_list = header.split()\n",
    "header_list"
   ]
  },
  {
   "cell_type": "code",
   "execution_count": 8,
   "metadata": {},
   "outputs": [
    {
     "name": "stdout",
     "output_type": "stream",
     "text": [
      "['10.15', '10', '50', '45', '20']\n",
      "['10.16', '12', '45', '41', '18']\n",
      "['10.17', '11', '53', '32', '25']\n",
      "['10.18', '15', '49', '38', '22']\n"
     ]
    }
   ],
   "source": [
    "f = open(file_name)          # 파일 열기\n",
    "header = f.readline()        # 데이터의 첫 번째 줄을 읽음\n",
    "header_list = header.split() # 첫 줄의 문자열을 분리한 후 리스트로 변환\n",
    "\n",
    "for line in f:               # 두 번째 줄부터 데이터를 읽어서 반복적으로 처리\n",
    "    data_list = line.split() # 문자열을 분리해서 리스트로 변환\n",
    "    print(data_list)         # 결과 확인을 위해 리스트 출력\n",
    "    \n",
    "f.close()                    # 파일 닫기"
   ]
  },
  {
   "cell_type": "code",
   "execution_count": 11,
   "metadata": {},
   "outputs": [
    {
     "name": "stdout",
     "output_type": "stream",
     "text": [
      "에스프레소: [10, 12, 11, 15]\n",
      "아메리카노: [50, 45, 53, 49]\n",
      "카페라테: [45, 41, 32, 38]\n",
      "카푸치노: [20, 18, 25, 22]\n"
     ]
    }
   ],
   "source": [
    "f = open(file_name)         # 파일 열기\n",
    "header = f.readline()       # 데이터의 첫 번째 줄을 읽음\n",
    "headerList = header.split() # 첫 줄의 문자열을 분리한 후 리스트로 변환\n",
    "\n",
    "header_list[1] = []               # 커피 종류별로 빈 리스트 생성 # espresso  \n",
    "header_list[2] = []                                            # americano\n",
    "header_list[3] = []                                            # cafelatte\n",
    "header_list[4] = []                                            # cappucino\n",
    "\n",
    "for line in f:              # 두 번째 줄부터 데이터를 읽어서 반복적으로 처리\n",
    "    dataList = line.split() # 문자열에서 공백을 제거해서 문자열 리스트로 변환\n",
    "    \n",
    "    # 커피 종류별로 정수로 변환한 후, 리스트의 항목으로 추가\n",
    "    header_list[1].append(int(dataList[1]))\n",
    "    header_list[2].append(int(dataList[2]))\n",
    "    header_list[3].append(int(dataList[3]))\n",
    "    header_list[4].append(int(dataList[4]))\n",
    "    \n",
    "f.close() # 파일 닫기\n",
    "\n",
    "print(\"{0}: {1}\".format(headerList[1], header_list[1])) # 변수에 할당된 값을 출력\n",
    "print(\"{0}: {1}\".format(headerList[2], header_list[2]))\n",
    "print(\"{0}: {1}\".format(headerList[3], header_list[3]))  \n",
    "print(\"{0}: {1}\".format(headerList[4], header_list[4]))"
   ]
  },
  {
   "cell_type": "code",
   "execution_count": 12,
   "metadata": {},
   "outputs": [
    {
     "name": "stdout",
     "output_type": "stream",
     "text": [
      "에스프레소: [10, 12, 11, 15]\n",
      "아메리카노: [50, 45, 53, 49]\n",
      "카페라테: [45, 41, 32, 38]\n",
      "카푸치노: [20, 18, 25, 22]\n"
     ]
    }
   ],
   "source": [
    "f = open(file_name)         # 파일 열기\n",
    "header = f.readline()       # 데이터의 첫 번째 줄을 읽음\n",
    "headerList = header.split() # 첫 줄의 문자열을 분리한 후 리스트로 변환\n",
    "\n",
    "espresso = []               # 커피 종류별로 빈 리스트 생성\n",
    "americano = []\n",
    "cafelatte = []\n",
    "cappucino = []\n",
    "\n",
    "for line in f:              # 두 번째 줄부터 데이터를 읽어서 반복적으로 처리\n",
    "    dataList = line.split() # 문자열에서 공백을 제거해서 문자열 리스트로 변환\n",
    "    \n",
    "    # 커피 종류별로 정수로 변환한 후, 리스트의 항목으로 추가\n",
    "    espresso.append(int(dataList[1]))\n",
    "    americano.append(int(dataList[2]))\n",
    "    cafelatte.append(int(dataList[3]))\n",
    "    cappucino.append(int(dataList[4]))\n",
    "    \n",
    "f.close() # 파일 닫기\n",
    "\n",
    "print(\"{0}: {1}\".format(headerList[1], espresso)) # 변수에 할당된 값을 출력\n",
    "print(\"{0}: {1}\".format(headerList[2], americano))\n",
    "print(\"{0}: {1}\".format(headerList[3], cafelatte))  \n",
    "print(\"{0}: {1}\".format(headerList[4], cappucino))"
   ]
  },
  {
   "cell_type": "code",
   "execution_count": 13,
   "metadata": {},
   "outputs": [
    {
     "name": "stdout",
     "output_type": "stream",
     "text": [
      "[에스프레소] 판매량\n",
      "- 나흘 전체: 48, 하루 평균: 12.0\n",
      "[아메리카노] 판매량\n",
      "- 나흘 전체: 197, 하루 평균: 49.25\n",
      "[카페라테] 판매량\n",
      "- 나흘 전체: 156, 하루 평균: 39.0\n",
      "[카푸치노] 판매량\n",
      "- 나흘 전체: 85, 하루 평균: 21.25\n"
     ]
    }
   ],
   "source": [
    "total_sum = [sum(espresso), sum(americano), sum(cafelatte), sum(cappucino)]\n",
    "total_mean = [sum(espresso)/len(espresso), sum(americano)/len(americano),\n",
    "              sum(cafelatte)/len(cafelatte), sum(cappucino)/len(cappucino) ]\n",
    "\n",
    "for k in range(len(total_sum)):\n",
    "    print('[{0}] 판매량'.format(headerList[k+1]))\n",
    "    print('- 나흘 전체: {0}, 하루 평균: {1}'.format(total_sum[k], total_mean[k]))"
   ]
  },
  {
   "cell_type": "code",
   "execution_count": 16,
   "metadata": {},
   "outputs": [
    {
     "data": {
      "text/plain": [
       "[10, 12, 11, 15]"
      ]
     },
     "execution_count": 16,
     "metadata": {},
     "output_type": "execute_result"
    }
   ],
   "source": [
    "espresso"
   ]
  },
  {
   "cell_type": "code",
   "execution_count": null,
   "metadata": {},
   "outputs": [],
   "source": []
  },
  {
   "cell_type": "code",
   "execution_count": null,
   "metadata": {},
   "outputs": [],
   "source": []
  },
  {
   "cell_type": "code",
   "execution_count": null,
   "metadata": {},
   "outputs": [],
   "source": []
  },
  {
   "cell_type": "code",
   "execution_count": null,
   "metadata": {},
   "outputs": [],
   "source": []
  },
  {
   "cell_type": "code",
   "execution_count": null,
   "metadata": {},
   "outputs": [],
   "source": []
  },
  {
   "cell_type": "code",
   "execution_count": null,
   "metadata": {},
   "outputs": [],
   "source": []
  },
  {
   "cell_type": "code",
   "execution_count": null,
   "metadata": {},
   "outputs": [],
   "source": []
  },
  {
   "cell_type": "code",
   "execution_count": null,
   "metadata": {},
   "outputs": [],
   "source": []
  },
  {
   "cell_type": "code",
   "execution_count": null,
   "metadata": {},
   "outputs": [],
   "source": []
  },
  {
   "cell_type": "code",
   "execution_count": null,
   "metadata": {},
   "outputs": [],
   "source": []
  },
  {
   "cell_type": "code",
   "execution_count": null,
   "metadata": {},
   "outputs": [],
   "source": []
  },
  {
   "cell_type": "code",
   "execution_count": null,
   "metadata": {},
   "outputs": [],
   "source": []
  },
  {
   "cell_type": "code",
   "execution_count": null,
   "metadata": {},
   "outputs": [],
   "source": []
  },
  {
   "cell_type": "code",
   "execution_count": null,
   "metadata": {},
   "outputs": [],
   "source": []
  }
 ],
 "metadata": {
  "kernelspec": {
   "display_name": "Python 3",
   "language": "python",
   "name": "python3"
  },
  "language_info": {
   "codemirror_mode": {
    "name": "ipython",
    "version": 3
   },
   "file_extension": ".py",
   "mimetype": "text/x-python",
   "name": "python",
   "nbconvert_exporter": "python",
   "pygments_lexer": "ipython3",
   "version": "3.6.9"
  }
 },
 "nbformat": 4,
 "nbformat_minor": 2
}
