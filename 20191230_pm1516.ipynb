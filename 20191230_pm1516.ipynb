{
 "cells": [
  {
   "cell_type": "markdown",
   "metadata": {},
   "source": [
    "# Chapter 7 함수(function)"
   ]
  },
  {
   "cell_type": "markdown",
   "metadata": {},
   "source": [
    "* 함수는 특정 기능을 수행하는 코드의 묶음. \n",
    "* 코드가 깔끔해지고 한번 만든 코드를 재사용 할 수 있어서 코드를 작성하기가 편해짐\n",
    "* 내장함수 예\n",
    "> `print()`  \n",
    "`input()`  \n",
    " `type()`"
   ]
  },
  {
   "cell_type": "markdown",
   "metadata": {},
   "source": [
    "## 7.1 함수 정의와 호출"
   ]
  },
  {
   "cell_type": "markdown",
   "metadata": {},
   "source": [
    "$y$ = 출력 $f(·)$ = 함수 $x$ = 입력"
   ]
  },
  {
   "cell_type": "markdown",
   "metadata": {},
   "source": [
    "> $y=f(x)$"
   ]
  },
  {
   "cell_type": "markdown",
   "metadata": {},
   "source": [
    "### 인자도 없고 반환 값도 없는 함수"
   ]
  },
  {
   "cell_type": "code",
   "execution_count": 3,
   "metadata": {},
   "outputs": [],
   "source": [
    "def my_func():\n",
    "    print(\"My first function!\")\n",
    "    print(\"This is a function.\")"
   ]
  },
  {
   "cell_type": "code",
   "execution_count": 4,
   "metadata": {},
   "outputs": [
    {
     "name": "stdout",
     "output_type": "stream",
     "text": [
      "My first function!\n",
      "This is a function.\n"
     ]
    }
   ],
   "source": [
    "my_func()"
   ]
  },
  {
   "cell_type": "code",
   "execution_count": 5,
   "metadata": {},
   "outputs": [
    {
     "ename": "TypeError",
     "evalue": "my_func() takes 0 positional arguments but 1 was given",
     "output_type": "error",
     "traceback": [
      "\u001b[1;31m---------------------------------------------------------------------------\u001b[0m",
      "\u001b[1;31mTypeError\u001b[0m                                 Traceback (most recent call last)",
      "\u001b[1;32m<ipython-input-5-0140c6a00e9d>\u001b[0m in \u001b[0;36m<module>\u001b[1;34m\u001b[0m\n\u001b[1;32m----> 1\u001b[1;33m \u001b[0mmy_func\u001b[0m\u001b[1;33m(\u001b[0m\u001b[1;34m\"이것은 함수입니다\"\u001b[0m\u001b[1;33m)\u001b[0m\u001b[1;33m\u001b[0m\u001b[1;33m\u001b[0m\u001b[0m\n\u001b[0m",
      "\u001b[1;31mTypeError\u001b[0m: my_func() takes 0 positional arguments but 1 was given"
     ]
    }
   ],
   "source": [
    "my_func(\"이것은 함수입니다\")"
   ]
  },
  {
   "cell_type": "markdown",
   "metadata": {},
   "source": [
    "### 인자는 있으나 반환 값이 없는 함수"
   ]
  },
  {
   "cell_type": "code",
   "execution_count": 6,
   "metadata": {},
   "outputs": [],
   "source": [
    "def my_friend(friendName):\n",
    "    print(\"{}는 나의 친구입니다.\".format(friendName))"
   ]
  },
  {
   "cell_type": "code",
   "execution_count": 7,
   "metadata": {},
   "outputs": [
    {
     "name": "stdout",
     "output_type": "stream",
     "text": [
      "철수는 나의 친구입니다.\n",
      "영미는 나의 친구입니다.\n"
     ]
    }
   ],
   "source": [
    "my_friend(\"철수\")\n",
    "my_friend(\"영미\")"
   ]
  },
  {
   "cell_type": "markdown",
   "metadata": {},
   "source": [
    "- - - - - -"
   ]
  },
  {
   "cell_type": "markdown",
   "metadata": {},
   "source": [
    "#### 학급 전화부"
   ]
  },
  {
   "cell_type": "code",
   "execution_count": 9,
   "metadata": {},
   "outputs": [],
   "source": [
    "def my_student_info(name, school_ID, phoneNumber):\n",
    "    print(\"------------------------\")\n",
    "    print(\"- 학생이름:\", name)\n",
    "    print(\"- 학급번호:\", school_ID)\n",
    "    print(\"- 전화번호:\", phoneNumber)"
   ]
  },
  {
   "cell_type": "code",
   "execution_count": 10,
   "metadata": {},
   "outputs": [
    {
     "name": "stdout",
     "output_type": "stream",
     "text": [
      "------------------------\n",
      "- 학생이름: 현아\n",
      "- 학급번호: 01\n",
      "- 전화번호: 01-235-6789\n",
      "------------------------\n",
      "- 학생이름: 진수\n",
      "- 학급번호: 02\n",
      "- 전화번호: 01-987-6543\n"
     ]
    }
   ],
   "source": [
    "my_student_info(\"현아\", \"01\", \"01-235-6789\")\n",
    "my_student_info(\"진수\", \"02\", \"01-987-6543\")"
   ]
  },
  {
   "cell_type": "markdown",
   "metadata": {},
   "source": [
    "함수 범위를 확장(함수를 호출하는 모든 코드에 적용. 인자 변경 없이 그대로 입력. "
   ]
  },
  {
   "cell_type": "code",
   "execution_count": 11,
   "metadata": {},
   "outputs": [],
   "source": [
    "def my_student_info(name, school_ID,  phoneNumber):\n",
    "    print(\"****************************\")\n",
    "    print(\"* 학생이름:\", name)\n",
    "    print(\"* 학급번호:\", school_ID)\n",
    "    print(\"* 전화번호:\", phoneNumber)"
   ]
  },
  {
   "cell_type": "code",
   "execution_count": 12,
   "metadata": {},
   "outputs": [
    {
     "name": "stdout",
     "output_type": "stream",
     "text": [
      "****************************\n",
      "* 학생이름: 현아\n",
      "* 학급번호: 01\n",
      "* 전화번호: 01-235-6789\n",
      "****************************\n",
      "* 학생이름: 진수\n",
      "* 학급번호: 02\n",
      "* 전화번호: 01-987-6543\n"
     ]
    }
   ],
   "source": [
    "my_student_info(\"현아\", \"01\", \"01-235-6789\")\n",
    "my_student_info(\"진수\", \"02\", \"01-987-6543\")"
   ]
  },
  {
   "cell_type": "markdown",
   "metadata": {},
   "source": [
    "### 인자도 있고 반환 값도 있는 함수"
   ]
  },
  {
   "cell_type": "code",
   "execution_count": 1,
   "metadata": {},
   "outputs": [],
   "source": [
    "def my_calc(x,y):\n",
    "    z = x*y\n",
    "    return z"
   ]
  },
  {
   "cell_type": "code",
   "execution_count": 2,
   "metadata": {},
   "outputs": [
    {
     "data": {
      "text/plain": [
       "12"
      ]
     },
     "execution_count": 2,
     "metadata": {},
     "output_type": "execute_result"
    }
   ],
   "source": [
    "my_calc(3,4)"
   ]
  },
  {
   "cell_type": "code",
   "execution_count": 13,
   "metadata": {},
   "outputs": [],
   "source": [
    "def my_student_info_list(student_info):\n",
    "    print(\"****************************\")\n",
    "    print(\"* 학생이름:\", student_info[0])\n",
    "    print(\"* 학급번호:\", student_info[1])\n",
    "    print(\"* 전화번호:\", student_info[2])\n",
    "    print(\"****************************\")"
   ]
  },
  {
   "cell_type": "code",
   "execution_count": 14,
   "metadata": {},
   "outputs": [
    {
     "name": "stdout",
     "output_type": "stream",
     "text": [
      "****************************\n",
      "* 학생이름: 현아\n",
      "* 학급번호: 01\n",
      "* 전화번호: 01-235-6789\n",
      "****************************\n"
     ]
    }
   ],
   "source": [
    "student1_info = [\"현아\", \"01\", \"01-235-6789\"]\n",
    "my_student_info_list(student1_info)"
   ]
  },
  {
   "cell_type": "code",
   "execution_count": 15,
   "metadata": {},
   "outputs": [
    {
     "name": "stdout",
     "output_type": "stream",
     "text": [
      "****************************\n",
      "* 학생이름: 진수\n",
      "* 학급번호: 02\n",
      "* 전화번호: 01-987-6543\n",
      "****************************\n"
     ]
    }
   ],
   "source": [
    "my_student_info_list([\"진수\", \"02\", \"01-987-6543\"])"
   ]
  },
  {
   "cell_type": "markdown",
   "metadata": {},
   "source": [
    "## 7.2 변수의 유효 범위\n",
    "1. 함수 안에서 정의한(생성한) 변수는 함수 안에서만 사용 할 수 있음\n",
    "2. **지역 변수** 함수 안에서만 정의한 변수 = 함수 영역 안에서만 동작하는 변수   \n",
    "   **전역 변수** 함수 밖에서 생성한 변수 = 코드 내 어디서나 사용 가능 \n",
    "\n",
    "3. 유효 범위(scope) = 변수가 코드 내에서 영향을 미치는 범위  \n",
    "** 지역(local scope) 지역 변수를 저장하는  \n",
    "** 전역(global scope) 전역 변수를 저장하는  \n",
    "** 내장(built-in scope) 파이썬 자체에서 정의한 \n",
    "4. 동일한 변수명은 스코핑 룰에 따라 변수가 선택됨  \n",
    "**Scoping Rule/LGB Rule** Local/Global/Built-in rule :    \n",
    "함수에서 어떤 변수를 호출할 때 지역 영역, 전역 영역, 내장 영역 순서대로 변수가 있는지 확인"
   ]
  },
  {
   "cell_type": "markdown",
   "metadata": {},
   "source": [
    "예) 같은 이름의 변수를 지역 변수와 전역 변수로 모두 사용한 예"
   ]
  },
  {
   "cell_type": "code",
   "execution_count": 16,
   "metadata": {},
   "outputs": [],
   "source": [
    "a = 5 # 전역 변수\n",
    "\n",
    "def func1():\n",
    "    a = 1 # 지역 변수. func1()에서만 사용\n",
    "    print(\"[func1] 지역 변수 a =\", a)\n",
    "\n",
    "def func2():\n",
    "    a = 2 # 지역 변수. func2()에서만 사용\n",
    "    print(\"[func2] 지역 변수 a =\", a)  \n",
    "    \n",
    "def func3():\n",
    "    print(\"[func3] 전역 변수 a =\", a)   \n",
    "    \n",
    "def func4():\n",
    "    global a  # 함수 내에서 전역 변수 변경 위해 선언\n",
    "    a = 4      # 전역 변수의 값 변경\n",
    "    print(\"[func4] 전역 변수 a =\",a)"
   ]
  },
  {
   "cell_type": "code",
   "execution_count": 17,
   "metadata": {},
   "outputs": [
    {
     "data": {
      "text/plain": [
       "5"
      ]
     },
     "execution_count": 17,
     "metadata": {},
     "output_type": "execute_result"
    }
   ],
   "source": [
    "a"
   ]
  },
  {
   "cell_type": "code",
   "execution_count": 18,
   "metadata": {},
   "outputs": [
    {
     "name": "stdout",
     "output_type": "stream",
     "text": [
      "[func1] 지역 변수 a = 1\n",
      "[func2] 지역 변수 a = 2\n",
      "전역 변수 a = 5\n"
     ]
    }
   ],
   "source": [
    "func1() #함수 func1() 호출\n",
    "func2() #함수 func2() 호출\n",
    "print(\"전역 변수 a =\", a) # 전역 변수 출력 "
   ]
  },
  {
   "cell_type": "code",
   "execution_count": 19,
   "metadata": {},
   "outputs": [
    {
     "name": "stdout",
     "output_type": "stream",
     "text": [
      "[func3] 전역 변수 a = 5\n",
      "[func4] 전역 변수 a = 4\n",
      "[func3] 전역 변수 a = 4\n"
     ]
    }
   ],
   "source": [
    "func3() #함수 func3() 호출\n",
    "func4() #함수 func4() 호출\n",
    "func3() #함수 func3() 호출"
   ]
  },
  {
   "cell_type": "code",
   "execution_count": 20,
   "metadata": {},
   "outputs": [
    {
     "data": {
      "text/plain": [
       "4"
      ]
     },
     "execution_count": 20,
     "metadata": {},
     "output_type": "execute_result"
    }
   ],
   "source": [
    "a"
   ]
  },
  {
   "cell_type": "markdown",
   "metadata": {},
   "source": [
    "## 7.3 lambda λ function"
   ]
  },
  {
   "cell_type": "markdown",
   "metadata": {},
   "source": [
    "`lambda <인자>: <인자 활용 수행 코드>`"
   ]
  },
  {
   "cell_type": "markdown",
   "metadata": {},
   "source": [
    "`(lambda <인자>: <인자 활용 수행 코드>)(<인자>)`"
   ]
  },
  {
   "cell_type": "code",
   "execution_count": 21,
   "metadata": {},
   "outputs": [
    {
     "data": {
      "text/plain": [
       "9"
      ]
     },
     "execution_count": 21,
     "metadata": {},
     "output_type": "execute_result"
    }
   ],
   "source": [
    "(lambda x : x**2) (3)"
   ]
  }
 ],
 "metadata": {
  "kernelspec": {
   "display_name": "Python 3",
   "language": "python",
   "name": "python3"
  },
  "language_info": {
   "codemirror_mode": {
    "name": "ipython",
    "version": 3
   },
   "file_extension": ".py",
   "mimetype": "text/x-python",
   "name": "python",
   "nbconvert_exporter": "python",
   "pygments_lexer": "ipython3",
   "version": "3.6.9"
  }
 },
 "nbformat": 4,
 "nbformat_minor": 2
}
