{
 "cells": [
  {
   "cell_type": "markdown",
   "metadata": {},
   "source": [
    "<!--  -->"
   ]
  },
  {
   "cell_type": "markdown",
   "metadata": {},
   "source": [
    "http://blog.naver.com/is_king/221527516004 참고함"
   ]
  },
  {
   "cell_type": "markdown",
   "metadata": {},
   "source": [
    "# 단축키(shortcuts)"
   ]
  },
  {
   "cell_type": "markdown",
   "metadata": {},
   "source": [
    "결과 생략하려면 왼쪽 빈칸 더블클릭"
   ]
  },
  {
   "cell_type": "markdown",
   "metadata": {},
   "source": [
    "## 공통 단축키"
   ]
  },
  {
   "cell_type": "markdown",
   "metadata": {},
   "source": [
    "Shift +Enter | 현재 선택한 셀 실행 후  다음 셀 이동(없으면 생성) |   \n",
    "Alt +Enter | 현재 선택한 셀 실행 후 다음 셀 생성(삽입)   \n",
    "Ctrl + Enter | 현재 선택한 셀 실행. 아래 셀 추가나 선택 없음 |  \n",
    "Ctrl + S | 노트북  저장하고 checkpoint 생성   \n",
    "- - - - - - "
   ]
  },
  {
   "cell_type": "markdown",
   "metadata": {},
   "source": [
    "**Enter** 명령모드에서 입력모드로 전환 - 현재 선택할 셀 편집 (편집모드로 전환)  \n",
    "**Esc** 입력모드에서 명령모드로 전환  \n",
    "**M** 명령모드에서 셀 타입을 **마크다운**으로 전환   \n",
    "**Y** 명령모드에서 셀타입을 **코드**로 전환   \n",
    "**Ctrl + /** 셀(입력 모드)에서 선택된 코드를 주석/비주석 처리   \n",
    "**↑↓**명령 모드에서 셀 간의 상하이동   \n",
    "del 삭제   "
   ]
  },
  {
   "cell_type": "markdown",
   "metadata": {},
   "source": [
    "## 마크다운\n",
    "# #한 개 \n",
    "## #두개 \n",
    "### #세 개 \n",
    "#### #네 개 \n",
    "##### #다섯 개\n",
    "###### #여섯 개 \n",
    "####### #일곱 개부터는 안 됨 "
   ]
  },
  {
   "cell_type": "markdown",
   "metadata": {},
   "source": [
    "**Ctrl B**   Bold  \n",
    "*Ctrl I*   Italic  "
   ]
  },
  {
   "cell_type": "markdown",
   "metadata": {},
   "source": [
    "# Colaboratory Markdown \n"
   ]
  },
  {
   "cell_type": "markdown",
   "metadata": {},
   "source": [
    "https://colab.research.google.com/notebooks/markdown_guide.ipynb"
   ]
  },
  {
   "cell_type": "markdown",
   "metadata": {},
   "source": [
    "Examples of markdown text with tags repeated, escaped the second time, to clarify their function:\n",
    "\n",
    "##### \\#\\#\\#\\#\\#This text is treated as an <h5> because it has five hashes at the beginning\n",
    "\n",
    "\\**italics*\\* and \\__italics_\\_\n",
    "\n",
    "**\\*\\*bold\\*\\***\n",
    "\n",
    "\\~\\~~~strikethrough~~\\~\\~\n",
    "\n",
    "\\``monospace`\\`\n",
    "\n",
    "No indent\n",
    ">\\>One level of indentation\n",
    ">>\\>\\>Two levels of indentation\n",
    "\n",
    "An ordered list:\n",
    "1. 1\\. One\n",
    "1. 1\\. Two\n",
    "1. 1\\. Three\n",
    "\n",
    "An unordered list:\n",
    "* \\* One\n",
    "* \\* Two\n",
    "* \\* Three\n",
    "\n",
    "A naked URL: https://google.com\n",
    "\n",
    "Linked URL: \\[[Colaboratory](https://research.google.com/colaboratory)]\\(https://research.google.com/colaboratory)\n",
    "\n",
    "A linked URL using references:\n",
    "\n",
    ">\\[[Colaboratory][colaboratory-label]]\\[colaboratory-label]\n",
    "\n",
    ">\\[colaboratory-label]: https://research.google.com/colaboratory\n",
    "[colaboratory-label]: https://research.google.com/colaboratory\n",
    "\n",
    "An inline image: !\\[Google's logo](https://www.google.com/images/logos/google_logo_41.png)\n",
    ">![Google's logo](https://www.google.com/images/logos/google_logo_41.png)\n",
    "\n",
    "Equations:\n",
    "\n",
    ">$y=x^2$\n",
    "\n",
    ">$e^{i\\pi} + 1 = 0$\n",
    "\n",
    ">$e^x=\\sum_{i=0}^\\infty \\frac{1}{i!}x^i$\n",
    "\n",
    ">$\\frac{n!}{k!(n-k)!} = {n \\choose k}$\n",
    "\n",
    ">$A_{m,n} =\n",
    " \\begin{pmatrix}\n",
    "  a_{1,1} & a_{1,2} & \\cdots & a_{1,n} \\\\\n",
    "  a_{2,1} & a_{2,2} & \\cdots & a_{2,n} \\\\\n",
    "  \\vdots  & \\vdots  & \\ddots & \\vdots  \\\\\n",
    "  a_{m,1} & a_{m,2} & \\cdots & a_{m,n}\n",
    " \\end{pmatrix}$\n",
    "\n",
    "Tables:\n",
    ">```\n",
    "First column name | Second column name\n",
    "--- | ---\n",
    "Row 1, Col 1 | Row 1, Col 2\n",
    "Row 2, Col 1 | Row 2, Col 2\n",
    "```\n",
    "\n",
    "becomes:\n",
    "\n",
    ">First column name | Second column name\n",
    ">--- | ---\n",
    ">Row 1, Col 1 | Row 1, Col 2\n",
    ">Row 2, Col 1 | Row 2, Col 2\n",
    "\n",
    "Horizontal rule done with three dashes (\\-\\-\\-):\n",
    "\n",
    "---\n",
    "\n"
   ]
  },
  {
   "cell_type": "code",
   "execution_count": null,
   "metadata": {},
   "outputs": [],
   "source": []
  }
 ],
 "metadata": {
  "kernelspec": {
   "display_name": "Python 3",
   "language": "python",
   "name": "python3"
  },
  "language_info": {
   "codemirror_mode": {
    "name": "ipython",
    "version": 3
   },
   "file_extension": ".py",
   "mimetype": "text/x-python",
   "name": "python",
   "nbconvert_exporter": "python",
   "pygments_lexer": "ipython3",
   "version": "3.6.9"
  }
 },
 "nbformat": 4,
 "nbformat_minor": 2
}
