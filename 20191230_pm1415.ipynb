{
 "cells": [
  {
   "cell_type": "markdown",
   "metadata": {},
   "source": [
    "# 6.2 키보드 입력  "
   ]
  },
  {
   "cell_type": "markdown",
   "metadata": {},
   "source": [
    "`data = input(\"문자열\")`"
   ]
  },
  {
   "cell_type": "code",
   "execution_count": 1,
   "metadata": {},
   "outputs": [
    {
     "name": "stdout",
     "output_type": "stream",
     "text": [
      "당신의 이름은?홍길동\n",
      "당신은 홍길동이군요.\n"
     ]
    }
   ],
   "source": [
    "yourName = input(\"당신의 이름은?\")\n",
    "print(\"당신은 {}이군요.\".format(yourName))"
   ]
  },
  {
   "cell_type": "code",
   "execution_count": 2,
   "metadata": {},
   "outputs": [
    {
     "name": "stdout",
     "output_type": "stream",
     "text": [
      "숫자를 입력하세요: 4\n",
      "당신이 입력한 숫자는 4입니다.\n"
     ]
    }
   ],
   "source": [
    "num = input(\"숫자를 입력하세요: \")\n",
    "print(\"당신이 입력한 숫자는 {}입니다.\".format(num))"
   ]
  },
  {
   "cell_type": "code",
   "execution_count": 3,
   "metadata": {},
   "outputs": [
    {
     "name": "stdout",
     "output_type": "stream",
     "text": [
      "정사각형 한 변의 길이는?: 4\n",
      "정사각형의 넓이: 16\n"
     ]
    }
   ],
   "source": [
    "a = input(\"정사각형 한 변의 길이는?: \")\n",
    "area = int(a) ** 2\n",
    "print(\"정사각형의 넓이: {}\".format(area))"
   ]
  },
  {
   "cell_type": "code",
   "execution_count": 4,
   "metadata": {},
   "outputs": [
    {
     "name": "stdout",
     "output_type": "stream",
     "text": [
      "정사각형 한 변의 길이는?:4\n",
      "정사각형의 넓이: 16.0\n"
     ]
    }
   ],
   "source": [
    "b = input(\"정사각형 한 변의 길이는?:\")\n",
    "area = float(b) ** 2\n",
    "print(\"정사각형의 넓이: {}\".format(area))"
   ]
  },
  {
   "cell_type": "code",
   "execution_count": 10,
   "metadata": {},
   "outputs": [
    {
     "name": "stdout",
     "output_type": "stream",
     "text": [
      "정사각형 한 변의 길이는?: 4\n",
      "정사각형의 넓이: 16.0\n"
     ]
    }
   ],
   "source": [
    "c = input(\"정사각형 한 변의 길이는?: \")\n",
    "area = float(c) ** 2\n",
    "print(\"정사각형의 넓이: {}\".format(area))"
   ]
  },
  {
   "cell_type": "markdown",
   "metadata": {},
   "source": [
    "# 6.3 파일 읽고 쓰기\n",
    "`open()` 사용  \n",
    "`f=open('file_name', 'mode')`"
   ]
  },
  {
   "cell_type": "markdown",
   "metadata": {},
   "source": [
    "## 파일 열기"
   ]
  },
  {
   "cell_type": "markdown",
   "metadata": {},
   "source": [
    "<표> 파일 열기 속성(조합 가능) \n",
    "\n",
    "mode | 의미\n",
    "---|---\n",
    "r | 읽기 모드로 파일 열기(default). 모드를 지정하지 않으면 기본적으로 읽기 모드로 지정됨\n",
    "w | 쓰기 모드로 파일 열기. 같은 이름의 파일이 있으면 기존 내용은 모두 삭제됨. \n",
    "x | 쓰기 모드로 파일 열기. 같은 이름의 파일이 있을 경우 오류가 발생함\n",
    "a | 추가 모드로 파일 열기. 같은 이름의 파일이 없으면 w와 기능이 같음.\n",
    "b | 바이너리 파일 모드로 파일 열기 \n",
    "t | 텍스트 파일 모드로 파일 열기(기본). 지정하지 않으면 기본적으로 텍스트 모드로 지정됨"
   ]
  },
  {
   "cell_type": "markdown",
   "metadata": {},
   "source": [
    "## 파일 쓰기"
   ]
  },
  {
   "cell_type": "code",
   "execution_count": 11,
   "metadata": {},
   "outputs": [
    {
     "name": "stdout",
     "output_type": "stream",
     "text": [
      "C:\\myPyCode\n"
     ]
    }
   ],
   "source": [
    "cd C:\\myPyCode"
   ]
  },
  {
   "cell_type": "markdown",
   "metadata": {},
   "source": [
    "> f = open('file_name','w')  \n",
    "f.write(str)  \n",
    "f.close()"
   ]
  },
  {
   "cell_type": "code",
   "execution_count": 12,
   "metadata": {},
   "outputs": [],
   "source": [
    "f = open('myFile.txt', 'w')           # (1)'myFile.txt' 파일 쓰기 모드로 열기\n",
    "f.write('This is my first file.')     # (2) 연 파일에 문자열 쓰기\n",
    "f.close()                             # (3) 파일 닫기"
   ]
  },
  {
   "cell_type": "markdown",
   "metadata": {},
   "source": [
    "!type file이름을 통해 파일이 있는지 확인"
   ]
  },
  {
   "cell_type": "code",
   "execution_count": 13,
   "metadata": {},
   "outputs": [
    {
     "name": "stdout",
     "output_type": "stream",
     "text": [
      "This is my first file.\n"
     ]
    }
   ],
   "source": [
    "!type myFile.txt"
   ]
  },
  {
   "cell_type": "markdown",
   "metadata": {},
   "source": [
    "## 파일 읽기\n",
    "\n",
    "파일 읽기모드면서 텍스트 모드로 연 후에   \n",
    "파일 내용을 읽고 파일을 닫는 구조 \n",
    "\n",
    "> f = open('file_name', 'r')    \n",
    "data = f.read()   \n",
    "f.close()                             "
   ]
  },
  {
   "cell_type": "code",
   "execution_count": 14,
   "metadata": {},
   "outputs": [
    {
     "name": "stdout",
     "output_type": "stream",
     "text": [
      "This is my first file.\n"
     ]
    }
   ],
   "source": [
    "f = open('myFile.txt', 'r') # (1)'myFile.txt' 파일 읽기 모드로 열기\n",
    "file_text = f.read()        # (2) 파일 내용 읽은 후에 변수에 저장\n",
    "f.close()                   # (3) 파일 닫기\n",
    "\n",
    "print(file_text)            # 변수에 저장된 내용 출력          "
   ]
  },
  {
   "cell_type": "markdown",
   "metadata": {},
   "source": [
    "# 6.4 반복문을 이용해 파일 읽고 쓰기\n",
    "## 파일에 문자열 한 줄씩 쓰기 \n",
    "### 구구단 "
   ]
  },
  {
   "cell_type": "code",
   "execution_count": 15,
   "metadata": {},
   "outputs": [],
   "source": [
    "f = open('two_times_table.txt','w') # (1)파일을 쓰기 모드로 열기\n",
    "for num in range(1,10):              # (2) for문: num이 1~9까지 반복\n",
    "    format_string = \"2 x {0} = {1}\\n\".format(num,2*num) # 저장할 문자열 생성\n",
    "    f.write(format_string)          # (3) 파일에 문자열 저장\n",
    "f.close()                           # (4) 파일 닫기"
   ]
  },
  {
   "cell_type": "code",
   "execution_count": 18,
   "metadata": {},
   "outputs": [
    {
     "name": "stdout",
     "output_type": "stream",
     "text": [
      "2 x 1 = 2\n",
      "2 x 2 = 4\n",
      "2 x 3 = 6\n",
      "2 x 4 = 8\n",
      "2 x 5 = 10\n",
      "2 x 6 = 12\n",
      "2 x 7 = 14\n",
      "2 x 8 = 16\n",
      "2 x 9 = 18\n"
     ]
    }
   ],
   "source": [
    "!type two_times_table.txt"
   ]
  },
  {
   "cell_type": "markdown",
   "metadata": {},
   "source": [
    "## 파일에서 문자열 한 줄씩 읽기\n",
    "`readline()`나 `readlines()`를 이용\n",
    "\n",
    "## readline()\n",
    "파일 연후 `readline()` 수행.\n",
    "파일로부터 문자 한 줄 읽음.\n",
    "다시 `readline()` 수행 ... 실행한 횟수만큼 문자를 한 줄씩 읽음.\n",
    "마지막 한 줄 읽고 다시 `readline()` 수행하면 빈 문자열 반환"
   ]
  },
  {
   "cell_type": "code",
   "execution_count": 19,
   "metadata": {},
   "outputs": [
    {
     "name": "stdout",
     "output_type": "stream",
     "text": [
      "2 x 1 = 2\n",
      "2 x 2 = 4\n"
     ]
    }
   ],
   "source": [
    "f = open(\"two_times_table.txt\")   # 파일을 읽기 모드로 열기\n",
    "line1 = f.readline()              # 한 줄씩 문자열을 읽기\n",
    "line2 = f.readline()\n",
    "f.close()                         # 파일 닫기\n",
    "print(line1, end=\"\")              # 한 줄씩 문자열 출력(줄 바꿈 안 함)\n",
    "print(line2, end=\"\") "
   ]
  },
  {
   "cell_type": "markdown",
   "metadata": {},
   "source": [
    "다음 코드: `line` 에는 `readline()`의 수행 결과로 가져온 한 줄 문자열이 대입되고 `while line:`에서 `line`이 빈 문자열인지를 검사해서 빈 문자열이 아니면 `while`문을 계쏙 수행하고, 빈 문자열이면 `while` 문을 빠져나옴"
   ]
  },
  {
   "cell_type": "code",
   "execution_count": 20,
   "metadata": {},
   "outputs": [
    {
     "name": "stdout",
     "output_type": "stream",
     "text": [
      "2 x 1 = 2\n",
      "2 x 2 = 4\n",
      "2 x 3 = 6\n",
      "2 x 4 = 8\n",
      "2 x 5 = 10\n",
      "2 x 6 = 12\n",
      "2 x 7 = 14\n",
      "2 x 8 = 16\n",
      "2 x 9 = 18\n"
     ]
    }
   ],
   "source": [
    "f = open(\"two_times_table.txt\")  # 파일을 읽기 모드로 열기\n",
    "line = f.readline()              # 문자열 한 줄 읽기\n",
    "while line:                     # line이 공백인지 검사해서 반복 여부 결정\n",
    "    print(line, end = \"\")        # 문자열 한 줄 출력(줄 바꿈 안 함)\n",
    "    line = f.readline()          # 문자열 한 줄 읽기\n",
    "f.close() # 파일 닫기"
   ]
  },
  {
   "cell_type": "markdown",
   "metadata": {},
   "source": [
    "## readlines 뒤에 s가 붙음"
   ]
  },
  {
   "cell_type": "markdown",
   "metadata": {},
   "source": [
    "`readlines()` 파일 전체의 모든 줄을 읽어서 한줄 씩을 요소로 갖는 리스트 타입으로 반환."
   ]
  },
  {
   "cell_type": "code",
   "execution_count": 21,
   "metadata": {},
   "outputs": [
    {
     "name": "stdout",
     "output_type": "stream",
     "text": [
      "['2 x 1 = 2\\n', '2 x 2 = 4\\n', '2 x 3 = 6\\n', '2 x 4 = 8\\n', '2 x 5 = 10\\n', '2 x 6 = 12\\n', '2 x 7 = 14\\n', '2 x 8 = 16\\n', '2 x 9 = 18\\n']\n"
     ]
    }
   ],
   "source": [
    "f = open(\"two_times_table.txt\") # (1) 파일을 읽기 모드로 열기\n",
    "lines = f.readlines()           # (2) 파일 전체 읽기(리스트로 반환)\n",
    "f.close()                       # (3) 파일 닫기\n",
    "\n",
    "print(lines)                    # 리스트 변수 내용 출력"
   ]
  },
  {
   "cell_type": "markdown",
   "metadata": {},
   "source": [
    "리스트에 할당된 문자열 처리"
   ]
  },
  {
   "cell_type": "code",
   "execution_count": 22,
   "metadata": {},
   "outputs": [
    {
     "name": "stdout",
     "output_type": "stream",
     "text": [
      "2 x 1 = 2\n",
      "2 x 2 = 4\n",
      "2 x 3 = 6\n",
      "2 x 4 = 8\n",
      "2 x 5 = 10\n",
      "2 x 6 = 12\n",
      "2 x 7 = 14\n",
      "2 x 8 = 16\n",
      "2 x 9 = 18\n"
     ]
    }
   ],
   "source": [
    "f = open(\"two_times_table.txt\")  # 파일을 읽기 모드로 열기\n",
    "lines = f.readlines()            # 파일 전체 읽기(리스트로 반환)\n",
    "f.close()                        # 파일 닫기\n",
    "for line in lines:              # 리스트를 <반복 범위>로 지정\n",
    "    print(line, end=\"\")          # 리스트 항목을 출력(줄 바꿈 안 함)"
   ]
  },
  {
   "cell_type": "markdown",
   "metadata": {},
   "source": [
    "`for`문의 `<반복 범위>`에 `lines` 변수 대신 바로 `f.readlines()`를 쓰면 "
   ]
  },
  {
   "cell_type": "code",
   "execution_count": 23,
   "metadata": {},
   "outputs": [
    {
     "name": "stdout",
     "output_type": "stream",
     "text": [
      "2 x 1 = 2\n",
      "2 x 2 = 4\n",
      "2 x 3 = 6\n",
      "2 x 4 = 8\n",
      "2 x 5 = 10\n",
      "2 x 6 = 12\n",
      "2 x 7 = 14\n",
      "2 x 8 = 16\n",
      "2 x 9 = 18\n"
     ]
    }
   ],
   "source": [
    "f = open(\"two_times_table.txt\")  # 파일을 읽기 모드로 열기\n",
    "for line in f.readlines():      # 파일 전체를 읽고, 리스트 항목을 line에 할당\n",
    "    print(line, end=\"\")          # 리스트 항목을 출력(줄 바꿈 안 함)\n",
    "f.close()   "
   ]
  },
  {
   "cell_type": "markdown",
   "metadata": {},
   "source": [
    "더 쉽게 "
   ]
  },
  {
   "cell_type": "code",
   "execution_count": 24,
   "metadata": {},
   "outputs": [
    {
     "name": "stdout",
     "output_type": "stream",
     "text": [
      "2 x 1 = 2\n",
      "2 x 2 = 4\n",
      "2 x 3 = 6\n",
      "2 x 4 = 8\n",
      "2 x 5 = 10\n",
      "2 x 6 = 12\n",
      "2 x 7 = 14\n",
      "2 x 8 = 16\n",
      "2 x 9 = 18\n"
     ]
    }
   ],
   "source": [
    "f = open(\"two_times_table.txt\") # 파일을 읽기 모드로 열기\n",
    "for line in f:                 # 파일 전체를 읽고, 리스트 항목을 line에 할당\n",
    "    print(line, end=\"\")         # line의 내용 출력(줄 바꿈 안 함)\n",
    "f.close()                       # 파일 닫기"
   ]
  },
  {
   "cell_type": "markdown",
   "metadata": {},
   "source": [
    "# 6.5 with 문을 활용해 파일을 읽고 쓰기 "
   ]
  },
  {
   "cell_type": "markdown",
   "metadata": {},
   "source": [
    "텍스트 파일에 쓰는 코드"
   ]
  },
  {
   "cell_type": "code",
   "execution_count": 25,
   "metadata": {},
   "outputs": [],
   "source": [
    "f = open('myTextFile.txt', 'w')   # (1) 파일 열기\n",
    "f.write('File write/read test.')  # (2) 파일 쓰기\n",
    "f.close()                         # (3) 파일 닫기"
   ]
  },
  {
   "cell_type": "markdown",
   "metadata": {},
   "source": [
    "텍스트 파일을 읽는 코드"
   ]
  },
  {
   "cell_type": "code",
   "execution_count": 26,
   "metadata": {},
   "outputs": [
    {
     "name": "stdout",
     "output_type": "stream",
     "text": [
      "File write/read test.\n"
     ]
    }
   ],
   "source": [
    "f = open('myTextFile.txt', 'r')  # (1) 파일 열기\n",
    "test = f.read()                  # (2) 파일 읽기\n",
    "f.close()                        # (3) 파일 닫기 \n",
    "print(test)"
   ]
  },
  {
   "cell_type": "markdown",
   "metadata": {},
   "source": [
    "* with 문을 이용해 파일 열기 \n",
    "> `with open('file_name','mode') as f:\n",
    "(indent) <코드 블록>`\n",
    "\n",
    "* with 문을 이용해 텍스트 파일 쓰기 \n",
    "> `with open('file_name','w') as f:\n",
    "(indent) f.write(str)`\n",
    "\n",
    "* with 문을 이용해 텍스트 파일 읽기\n",
    "> `with open('file_name','r') as f:\n",
    "(indent) data=f.read()`"
   ]
  },
  {
   "cell_type": "markdown",
   "metadata": {},
   "source": [
    "## with 문 활용"
   ]
  },
  {
   "cell_type": "markdown",
   "metadata": {},
   "source": [
    "`with`문 이용해 파일에 문자열을 쓰는 예"
   ]
  },
  {
   "cell_type": "code",
   "execution_count": 29,
   "metadata": {},
   "outputs": [],
   "source": [
    "with open('C:/myPyCode/myTextFile2.txt', 'w') as f: # (1) 파일 열기\n",
    "    f.write('File read/write test2: line1\\n')        # (2) 파일 쓰기\n",
    "    f.write('File read/write test2: line2\\n')\n",
    "    f.write('File read/write test2: line3\\n')"
   ]
  },
  {
   "cell_type": "markdown",
   "metadata": {},
   "source": [
    "`with`문을 이용해 생성한 파일을 읽음"
   ]
  },
  {
   "cell_type": "code",
   "execution_count": 30,
   "metadata": {
    "scrolled": true
   },
   "outputs": [
    {
     "name": "stdout",
     "output_type": "stream",
     "text": [
      "File read/write test2: line1\n",
      "File read/write test2: line2\n",
      "File read/write test2: line3\n",
      "\n"
     ]
    }
   ],
   "source": [
    "with open('C:/myPyCode/myTextFile2.txt') as f: # (1) 파일 열기\n",
    "    file_string = f.read()                      # (2) 파일 읽기\n",
    "    print(file_string)"
   ]
  },
  {
   "cell_type": "markdown",
   "metadata": {},
   "source": [
    "* `with`문을 반복문과 함께 이용하는 예"
   ]
  },
  {
   "cell_type": "code",
   "execution_count": 27,
   "metadata": {},
   "outputs": [],
   "source": [
    "with open('C:/myPyCode/myTextFile3.txt', 'w') as f: # 파일을 쓰기 모드로 열기\n",
    "    for num in range(1,6):             # for문에서 num이 1~5까지 반복\n",
    "        format_string = \"3 x {0} = {1}\\n\".format(num,3*num) # 문자열 생성\n",
    "        f.write(format_string)         # 파일에 문자열 쓰기"
   ]
  },
  {
   "cell_type": "markdown",
   "metadata": {},
   "source": [
    "* `with`문과 `for`문을 이용해 파일의 문자열을 한 줄씩 읽는 예"
   ]
  },
  {
   "cell_type": "code",
   "execution_count": 28,
   "metadata": {},
   "outputs": [
    {
     "name": "stdout",
     "output_type": "stream",
     "text": [
      "3 x 1 = 3\n",
      "3 x 2 = 6\n",
      "3 x 3 = 9\n",
      "3 x 4 = 12\n",
      "3 x 5 = 15\n"
     ]
    }
   ],
   "source": [
    "with open('C:/myPyCode/myTextFile3.txt', 'r') as f: # 파일을 읽기 모드로 열기\n",
    "    for line in f:           # 파일 전체를 읽고 리스트 항목을 line에 할당\n",
    "        print(line, end=\"\")  # line에 할당된 문자열 출력(줄 바꿈 안 함)"
   ]
  },
  {
   "cell_type": "markdown",
   "metadata": {},
   "source": [
    "디렉토리 구분자: windows `\\` python `/`"
   ]
  },
  {
   "cell_type": "code",
   "execution_count": null,
   "metadata": {},
   "outputs": [],
   "source": []
  }
 ],
 "metadata": {
  "kernelspec": {
   "display_name": "Python 3",
   "language": "python",
   "name": "python3"
  },
  "language_info": {
   "codemirror_mode": {
    "name": "ipython",
    "version": 3
   },
   "file_extension": ".py",
   "mimetype": "text/x-python",
   "name": "python",
   "nbconvert_exporter": "python",
   "pygments_lexer": "ipython3",
   "version": "3.6.9"
  }
 },
 "nbformat": 4,
 "nbformat_minor": 2
}
