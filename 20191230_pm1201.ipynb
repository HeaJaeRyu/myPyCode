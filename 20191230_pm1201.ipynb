{
 "cells": [
  {
   "cell_type": "markdown",
   "metadata": {},
   "source": [
    "# Chapter 6 입력과 출력\n",
    "# 6.1 화면 출력\n",
    "## print "
   ]
  },
  {
   "cell_type": "code",
   "execution_count": 1,
   "metadata": {},
   "outputs": [
    {
     "name": "stdout",
     "output_type": "stream",
     "text": [
      "Hello Python!!\n"
     ]
    }
   ],
   "source": [
    "print(\"Hello Python!!\")"
   ]
  },
  {
   "cell_type": "code",
   "execution_count": 2,
   "metadata": {},
   "outputs": [
    {
     "name": "stdout",
     "output_type": "stream",
     "text": [
      "Best python book\n"
     ]
    }
   ],
   "source": [
    "print(\"Best\", \"python\", \"book\")"
   ]
  },
  {
   "cell_type": "code",
   "execution_count": 3,
   "metadata": {},
   "outputs": [
    {
     "name": "stdout",
     "output_type": "stream",
     "text": [
      "Best-:*:-python-:*:-book\n"
     ]
    }
   ],
   "source": [
    "print(\"Best\", \"python\", \"book\", sep = \"-:*:-\")"
   ]
  },
  {
   "cell_type": "code",
   "execution_count": 4,
   "metadata": {},
   "outputs": [
    {
     "name": "stdout",
     "output_type": "stream",
     "text": [
      "abcdefg\n"
     ]
    }
   ],
   "source": [
    "print(\"abcd\" + \"efg\")"
   ]
  },
  {
   "cell_type": "code",
   "execution_count": 5,
   "metadata": {},
   "outputs": [
    {
     "name": "stdout",
     "output_type": "stream",
     "text": [
      "Best python book: This book\n"
     ]
    }
   ],
   "source": [
    "print(\"Best\", \"python\", \"book\" + \":\", \"This book\")"
   ]
  },
  {
   "cell_type": "code",
   "execution_count": 6,
   "metadata": {},
   "outputs": [
    {
     "name": "stdout",
     "output_type": "stream",
     "text": [
      "Name: James, ID Number: 789\n"
     ]
    }
   ],
   "source": [
    "name = \"James\"\n",
    "ID_num = 789\n",
    "print(\"Name:\", name + \",\", \"ID Number:\", ID_num )"
   ]
  },
  {
   "cell_type": "markdown",
   "metadata": {},
   "source": [
    "`\\n` 줄바꿈 표시 (개행문자)"
   ]
  },
  {
   "cell_type": "code",
   "execution_count": 8,
   "metadata": {},
   "outputs": [
    {
     "name": "stdout",
     "output_type": "stream",
     "text": [
      "James is my friend.\n",
      " \n",
      " He is Korean.\n"
     ]
    }
   ],
   "source": [
    "print(\"James is my friend.\\n \\n He is Korean.\")"
   ]
  },
  {
   "cell_type": "markdown",
   "metadata": {},
   "source": [
    "다른 문자열 추가 방법 (enter 안치고 줄 바꿈없이)\n",
    "`end = 문자열`"
   ]
  },
  {
   "cell_type": "code",
   "execution_count": 10,
   "metadata": {},
   "outputs": [
    {
     "name": "stdout",
     "output_type": "stream",
     "text": [
      "Welcome to python!\n"
     ]
    }
   ],
   "source": [
    "print(\"Welcome to \", end=\"\")\n",
    "print(\"python!\")"
   ]
  },
  {
   "cell_type": "code",
   "execution_count": 13,
   "metadata": {},
   "outputs": [
    {
     "name": "stdout",
     "output_type": "stream",
     "text": [
      "Welcome to programming python!\n"
     ]
    }
   ],
   "source": [
    "print(\"Welcome to \", end=\"programming \")\n",
    "print(\"python!\")"
   ]
  },
  {
   "cell_type": "markdown",
   "metadata": {},
   "source": [
    "나머지 연산자(%) 이용"
   ]
  },
  {
   "cell_type": "markdown",
   "metadata": {},
   "source": [
    "`print(\"%type\" % data)`\n",
    "* %type 에서 문자열이면 %s(string), 정수면 %d(혹은 %i), 실수면 %f(%F도 가능). 실수로 %f은 6자리까지 출력"
   ]
  },
  {
   "cell_type": "markdown",
   "metadata": {},
   "source": [
    "data가 두 개 이상이면   \n",
    "`print(\"%type %type\" % (data1,data2))`"
   ]
  },
  {
   "cell_type": "markdown",
   "metadata": {},
   "source": [
    "문자열을 대입한 변수를 출력(%s 이용)"
   ]
  },
  {
   "cell_type": "code",
   "execution_count": 14,
   "metadata": {},
   "outputs": [
    {
     "name": "stdout",
     "output_type": "stream",
     "text": [
      "광재는 나의 친구입니다.\n"
     ]
    }
   ],
   "source": [
    "name = \"광재\"\n",
    "print(\"%s는 나의 친구입니다.\" % name)"
   ]
  },
  {
   "cell_type": "markdown",
   "metadata": {},
   "source": [
    "%d와 %f를 이용해 정수와 실수를 출력"
   ]
  },
  {
   "cell_type": "code",
   "execution_count": 15,
   "metadata": {},
   "outputs": [
    {
     "name": "stdout",
     "output_type": "stream",
     "text": [
      "반지름: 3, 원주율: 3.141593\n"
     ]
    }
   ],
   "source": [
    "r = 3  # 변수 r에 정수 데이터 할당\n",
    "PI = 3.14159265358979 # 변수 PI에 실수 데이터 할당\n",
    "print(\"반지름: %d, 원주율: %f\" % (r, PI)) # 지정된 위치에 데이터 출력"
   ]
  },
  {
   "attachments": {},
   "cell_type": "markdown",
   "metadata": {},
   "source": [
    "### 형식 지정 문자열에서 [출력 위치] 지정\n",
    "\n",
    "`print()` 함수에서 `string.format()`을 이용해 형식 지정 문자열 기본 구조 파악하기   \n",
    "`print(\"{0},{1}, ... {n})\".format(data_0,data_1,data_2, ..., data_n)`"
   ]
  },
  {
   "cell_type": "code",
   "execution_count": 16,
   "metadata": {},
   "outputs": [
    {
     "name": "stdout",
     "output_type": "stream",
     "text": [
      "Animal: cat\n",
      "Animal: cat,dog,fox\n"
     ]
    }
   ],
   "source": [
    "animal_0 = \"cat\"\n",
    "animal_1 = \"dog\"\n",
    "animal_2 = \"fox\"\n",
    "\n",
    "print(\"Animal: {0}\".format(animal_0))\n",
    "print(\"Animal: {0},{1},{2}\".format(animal_0, animal_1, animal_2))"
   ]
  },
  {
   "cell_type": "code",
   "execution_count": 17,
   "metadata": {},
   "outputs": [
    {
     "name": "stdout",
     "output_type": "stream",
     "text": [
      "Animal: dog,fox,cat\n"
     ]
    }
   ],
   "source": [
    "print(\"Animal: {1},{2},{0}\".format(animal_0, animal_1, animal_2))"
   ]
  },
  {
   "cell_type": "code",
   "execution_count": 18,
   "metadata": {},
   "outputs": [
    {
     "name": "stdout",
     "output_type": "stream",
     "text": [
      "Animal: cat,fox\n"
     ]
    }
   ],
   "source": [
    "print(\"Animal: {0},{2}\".format(animal_0, animal_1, animal_2))"
   ]
  },
  {
   "cell_type": "markdown",
   "metadata": {},
   "source": [
    "`format()`안의 데이터를 순차적으로 지정할 때 빈 중괄호여도 됨."
   ]
  },
  {
   "cell_type": "code",
   "execution_count": 19,
   "metadata": {},
   "outputs": [
    {
     "name": "stdout",
     "output_type": "stream",
     "text": [
      "Animal: cat, dog, fox\n"
     ]
    }
   ],
   "source": [
    "print(\"Animal: {}, {}, {}\".format(animal_0, animal_1, animal_2))"
   ]
  },
  {
   "cell_type": "code",
   "execution_count": 20,
   "metadata": {},
   "outputs": [
    {
     "name": "stdout",
     "output_type": "stream",
     "text": [
      "String: Tomas. Integer Number: 10. Floating Number: 0.12345678901234568\n"
     ]
    }
   ],
   "source": [
    "name = \"Tomas\"\n",
    "age = 10\n",
    "a = 0.1234567890123456789\n",
    "fmt_string = \"String: {0}. Integer Number: {1}. Floating Number: {2}\"\n",
    "print(fmt_string.format(name, age, a))"
   ]
  },
  {
   "cell_type": "markdown",
   "metadata": {},
   "source": [
    "### 형식 지정 문자열에서 숫자 출력 형식 지정"
   ]
  },
  {
   "cell_type": "code",
   "execution_count": 21,
   "metadata": {},
   "outputs": [
    {
     "name": "stdout",
     "output_type": "stream",
     "text": [
      "0.12, 0.12346\n"
     ]
    }
   ],
   "source": [
    "a = 0.1234567890123456789\n",
    "print(\"{0:.2f}, {0:.5f}\".format(a))"
   ]
  },
  {
   "cell_type": "markdown",
   "metadata": {},
   "source": [
    "<표> 숫자의 출력 형식 지정   \n",
    "\n",
    "데이터(x) | 출력 형식 | 출력 결과 | 설명  \n",
    " --- | --- | --- | ---   \n",
    " 3 | `N:2d` | ↔3 | 정수를 공백 포함해 두 자리료 표시(공백 한 칸)   \n",
    " 3  | `N:05d` | 00003 |  정수를 다섯 자리로 표시. 앞의 공백은 0으로 채움   \n",
    " 12  | `N:>5d` | ↔↔↔12 |  정수를 다섯 자리로 표시. 숫자는 오른촉으로 정렬   \n",
    " 0.12345  | `N:.3f` | 0.123 |  실수를 소숫점 셋째 자리까지 표시   \n",
    " 745600  | `N:,` | 7,456,000 |  통화 표시처럼 끝에서 셋째 자리마다 반점(,) 표시   \n",
    " 0.3258  | `N:1%` | 32.6% |  소수를 %로 표시. 퍼센트 표시에서 소수점 자리 수는 '.' 다음 숫자로 표시   \n",
    " 92500000000  | `N:.2e` | 9.25e+10 |  숫자를 지수로 표시. 지수 표시에서 소수점 자리 수는 '.' 다음 숫자로 표시   \n",
    " 16  | `N:#x` | 0x10 | 숫자를 16진수로 표시. #기호가 없으면 0x 없이 출력됨.   \n",
    " 8  | `N:#o` | 0o10 |  숫자를 8진수로 표시. #기호가 없으면 0o 없이 출력됨.    \n",
    " 2  | `N:#b` | 0b10 |  숫자를 2진수로 표시. #기호가 없으면 0b 없이 출력됨. \n",
    "\n"
   ]
  },
  {
   "cell_type": "markdown",
   "metadata": {},
   "source": [
    "# 6.2 입력\n",
    "`input()` - 키보드로 데이터 입력.   \n",
    "`data=input(\"문자열\")`"
   ]
  },
  {
   "cell_type": "code",
   "execution_count": null,
   "metadata": {},
   "outputs": [],
   "source": []
  },
  {
   "cell_type": "code",
   "execution_count": null,
   "metadata": {},
   "outputs": [],
   "source": []
  },
  {
   "cell_type": "code",
   "execution_count": null,
   "metadata": {},
   "outputs": [],
   "source": []
  },
  {
   "cell_type": "code",
   "execution_count": null,
   "metadata": {},
   "outputs": [],
   "source": []
  },
  {
   "cell_type": "code",
   "execution_count": null,
   "metadata": {},
   "outputs": [],
   "source": []
  },
  {
   "cell_type": "code",
   "execution_count": null,
   "metadata": {},
   "outputs": [],
   "source": []
  },
  {
   "cell_type": "code",
   "execution_count": null,
   "metadata": {},
   "outputs": [],
   "source": []
  },
  {
   "cell_type": "code",
   "execution_count": null,
   "metadata": {},
   "outputs": [],
   "source": []
  }
 ],
 "metadata": {
  "kernelspec": {
   "display_name": "Python 3",
   "language": "python",
   "name": "python3"
  },
  "language_info": {
   "codemirror_mode": {
    "name": "ipython",
    "version": 3
   },
   "file_extension": ".py",
   "mimetype": "text/x-python",
   "name": "python",
   "nbconvert_exporter": "python",
   "pygments_lexer": "ipython3",
   "version": "3.6.9"
  }
 },
 "nbformat": 4,
 "nbformat_minor": 2
}
