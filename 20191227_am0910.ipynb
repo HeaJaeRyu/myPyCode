{
  "nbformat": 4,
  "nbformat_minor": 0,
  "metadata": {
    "colab": {
      "name": "20191227_am.ipynb",
      "provenance": [],
      "collapsed_sections": []
    },
    "kernelspec": {
      "name": "python3",
      "display_name": "Python 3"
    }
  },
  "cells": [
    {
      "cell_type": "markdown",
      "metadata": {
        "id": "eSjUfBQgsxWH",
        "colab_type": "text"
      },
      "source": [
        "# 청년 취업 아카데미\n",
        "어제 진도: ~28쪽\n",
        "# 주피터 노트북에서 코딩하기\n",
        " ## 주피터 노트북\n",
        "* 코드 작성 및 실행뿐만 아니라 설명을 위한 문서 작성을 편리하게 할 수 있는 웹 응용 프로그램  \n",
        "\n",
        "## 주피터 노트북 실행 \n",
        "* 아나콘다 메뉴에서 Jupyter Notebook을 클릭해서 실행\n",
        "* 주피터 서버가 시작되고 기본 브라우저의 새 창에서 주피터 노트북이 열림\n",
        "* Home 이 주피터 노트북의 시작점\n",
        "* 상위 호환되는 차기작인 주피터 랩(Jupyter Lab)으로 전환 예정\n",
        "\n",
        "# Colab\n",
        "Google Colaboratory \n",
        "1. Google Drive\n",
        "2. 새로 만들기 > 더보기 > COlaboratory (연결할 앱 더 보기)\n",
        "3. 실행(이 .ipynb은 colab으로 제작됨)\n"
      ]
    },
    {
      "cell_type": "code",
      "metadata": {
        "id": "T2Nxgz5FwagF",
        "colab_type": "code",
        "colab": {
          "base_uri": "https://localhost:8080/",
          "height": 34
        },
        "outputId": "574ed11a-1a2a-4653-9871-a33b10e6669c"
      },
      "source": [
        "print('hello world!')"
      ],
      "execution_count": 1,
      "outputs": [
        {
          "output_type": "stream",
          "text": [
            "hello world!\n"
          ],
          "name": "stdout"
        }
      ]
    },
    {
      "cell_type": "markdown",
      "metadata": {
        "id": "izXrX2HKwiGg",
        "colab_type": "text"
      },
      "source": [
        "shift enter : 현재 셀 실행하고 다음 셀 추가 "
      ]
    },
    {
      "cell_type": "code",
      "metadata": {
        "id": "OXHRuW0jwdNP",
        "colab_type": "code",
        "colab": {
          "base_uri": "https://localhost:8080/",
          "height": 34
        },
        "outputId": "1ae39cd7-ece9-4845-d336-5a589667cffa"
      },
      "source": [
        "print('pi')"
      ],
      "execution_count": 3,
      "outputs": [
        {
          "output_type": "stream",
          "text": [
            "pi\n"
          ],
          "name": "stdout"
        }
      ]
    },
    {
      "cell_type": "markdown",
      "metadata": {
        "id": "GERHMF1gwzLM",
        "colab_type": "text"
      },
      "source": [
        "### 런타임 > 런타임 유형 변경 \n",
        "런타임 유형: 파이썬3  \n",
        "하드웨어 가속기: GPU /TPU 중 GPU   \n",
        "새로 vm이 할당 \n"
      ]
    },
    {
      "cell_type": "markdown",
      "metadata": {
        "id": "yu4I4GUDxY1B",
        "colab_type": "text"
      },
      "source": [
        "### 목차\n",
        "현재 할당된 VM의 컨텐츠(파일) 3번째 탭 \n",
        "\n",
        "cd - change directory "
      ]
    },
    {
      "cell_type": "markdown",
      "metadata": {
        "id": "fCm9xYaWzxKC",
        "colab_type": "text"
      },
      "source": [
        "## How to use your directory \n",
        "1. anaconda prompt(myenv)\n",
        "2. cd C:\\myPyCode\n",
        "3. jupyter notebook\n",
        "4. http://localhost:8888/tree\n",
        "5. shut down 꼭 누르기!! \n",
        "\n",
        "### jupyter lab 도 사용하는 중\n",
        "shutdown 꼭 누르고 \n",
        "\n",
        "### jupyter notebook\n",
        "노트북 메뉴(파일 이름): 노트북을 새로 생성하면 임의로 제목이 지정. 노트북 제목을 클릭해 노트북 제목을 변경.\n",
        "\n",
        "### jupyter notevook 형태로 제작된 책. \n",
        "https://jakevdp.github.io/PythonDataScienceHandbook/\n",
        "\n",
        "**Python Data Science Handbook** by *Jake VanderPlas*\n",
        "\n",
        "### 셀\n",
        "* 파이썬 코드와 문자를 입력하는 셀 \n",
        "* 코드 셀 안쪽: 편집 영역  \n",
        "-- 셀 안에 In[]: 이 표시됨. 코드를 입력하고 실행하면 []안에는 숫자가 나타나며, 입력한 순서대로 숫자가 1씩 증가 \n",
        "* 그 밖의 영역: 편집 외 영역\n",
        "### 셀타입\n",
        "* code : 코드를 작성하기 위한 타입\n",
        "** 편집모드: 코드나 문서를 작성 <- 얘만 다룰 수 있음 \n",
        "** 명령 모드: 셀을 다루기 위한 모드 \n",
        "* markdown : md 형식의 문서를 작성하기 위한 타입(import 가능)\n",
        "\n",
        "\n",
        "\n"
      ]
    }
  ]
}