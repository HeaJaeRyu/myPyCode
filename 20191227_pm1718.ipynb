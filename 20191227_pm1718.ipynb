{
 "cells": [
  {
   "cell_type": "markdown",
   "metadata": {},
   "source": [
    "## Method 등장 \n",
    "메서드 - 데이터 타입(자료형)별로 이용할 수 있는 다양한 함수를 제공\n",
    "> 자료형.메서드이름()  \n",
    "> 변수형.메서드이름()"
   ]
  },
  {
   "cell_type": "markdown",
   "metadata": {},
   "source": [
    "1. **append()** 리스트 항목 하나를 맨 마지막에 추가\n",
    "2. **insert()** 리스트에서 특정 위치에 항목을 삽입\n",
    "3. **extend()** 리스트에서 항목 *여러 개*를 맨 마지막에 추가 \n",
    "4. **remove()** 입력값과 첫 번째로 일치하는 항목을 리스트에서 삭제\n",
    "5. **pop()** 리스트의 마지막 항목을 제거한 후에 반환 \n",
    "6. **index()** 리스트에서 인자와 일치하는 첫 항목의 위치를 반환\n",
    "7. **count()** 리스트에서 인자와 일치하는 항목의 개수를 반환\n",
    "8. **sort()** 숫자나 문자열로 구성된 리스트 항목을 순방향으로 정렬\n",
    "9. **reverse()** 리스트 항목을 끝에서부터 역순으로 정렬 "
   ]
  },
  {
   "cell_type": "code",
   "execution_count": 2,
   "metadata": {},
   "outputs": [
    {
     "name": "stdout",
     "output_type": "stream",
     "text": [
      "['James', 'Robert', 'Lisa', 'Mary']\n"
     ]
    }
   ],
   "source": [
    "myFriends = ['James','Robert','Lisa','Mary']\n",
    "print(myFriends)"
   ]
  },
  {
   "cell_type": "markdown",
   "metadata": {},
   "source": [
    "**append**"
   ]
  },
  {
   "cell_type": "code",
   "execution_count": 3,
   "metadata": {},
   "outputs": [
    {
     "name": "stdout",
     "output_type": "stream",
     "text": [
      "['James', 'Robert', 'Lisa', 'Mary', 'Thomas']\n"
     ]
    }
   ],
   "source": [
    "myFriends.append('Thomas')\n",
    "print(myFriends)"
   ]
  },
  {
   "cell_type": "markdown",
   "metadata": {},
   "source": [
    "**insert**"
   ]
  },
  {
   "cell_type": "code",
   "execution_count": 4,
   "metadata": {},
   "outputs": [
    {
     "name": "stdout",
     "output_type": "stream",
     "text": [
      "['James', 'Paul', 'Robert', 'Lisa', 'Mary', 'Thomas']\n"
     ]
    }
   ],
   "source": [
    "myFriends.insert(1,'Paul') #index_1에 삽입\n",
    "print(myFriends)"
   ]
  },
  {
   "cell_type": "markdown",
   "metadata": {},
   "source": [
    "**extend**"
   ]
  },
  {
   "cell_type": "code",
   "execution_count": 6,
   "metadata": {},
   "outputs": [
    {
     "name": "stdout",
     "output_type": "stream",
     "text": [
      "['James', 'Paul', 'Robert', 'Lisa', 'Mary', 'Thomas', 'Laura', 'Betty', 'Laura', 'Betty']\n"
     ]
    }
   ],
   "source": [
    "myFriends.extend(['Laura','Betty'])\n",
    "print(myFriends)"
   ]
  },
  {
   "cell_type": "markdown",
   "metadata": {},
   "source": [
    "**remove**"
   ]
  },
  {
   "cell_type": "code",
   "execution_count": 7,
   "metadata": {},
   "outputs": [
    {
     "name": "stdout",
     "output_type": "stream",
     "text": [
      "['James', 'Paul', 'Robert', 'Lisa', 'Mary', 'Thomas', 'Betty', 'Laura', 'Betty']\n"
     ]
    }
   ],
   "source": [
    "myFriends.remove('Laura')\n",
    "print(myFriends)"
   ]
  },
  {
   "cell_type": "markdown",
   "metadata": {},
   "source": [
    "**pop**"
   ]
  },
  {
   "cell_type": "code",
   "execution_count": 8,
   "metadata": {},
   "outputs": [
    {
     "name": "stdout",
     "output_type": "stream",
     "text": [
      "Betty\n"
     ]
    }
   ],
   "source": [
    "popFriend=myFriends.pop()\n",
    "print(popFriend)"
   ]
  },
  {
   "cell_type": "markdown",
   "metadata": {},
   "source": [
    "**index**"
   ]
  },
  {
   "cell_type": "code",
   "execution_count": 16,
   "metadata": {},
   "outputs": [
    {
     "name": "stdout",
     "output_type": "stream",
     "text": [
      "3\n"
     ]
    }
   ],
   "source": [
    "indexFriend=myFriends.index('Lisa')\n",
    "print(indexFriend)"
   ]
  },
  {
   "cell_type": "markdown",
   "metadata": {},
   "source": [
    "**count**"
   ]
  },
  {
   "cell_type": "code",
   "execution_count": 15,
   "metadata": {},
   "outputs": [
    {
     "name": "stdout",
     "output_type": "stream",
     "text": [
      "1\n"
     ]
    }
   ],
   "source": [
    "countFriend=myFriends.count('Mary')\n",
    "print(countFriend)"
   ]
  },
  {
   "cell_type": "markdown",
   "metadata": {},
   "source": [
    "**sort**, ascending order 올라가는 순서"
   ]
  },
  {
   "cell_type": "code",
   "execution_count": 21,
   "metadata": {},
   "outputs": [
    {
     "name": "stdout",
     "output_type": "stream",
     "text": [
      "['Betty', 'James', 'Laura', 'Lisa', 'Mary', 'Paul', 'Robert', 'Thomas']\n"
     ]
    }
   ],
   "source": [
    "myFriends.sort()\n",
    "print(myFriends)"
   ]
  },
  {
   "cell_type": "markdown",
   "metadata": {},
   "source": [
    "**reverse**, descending order. Z-A "
   ]
  },
  {
   "cell_type": "code",
   "execution_count": 22,
   "metadata": {},
   "outputs": [
    {
     "name": "stdout",
     "output_type": "stream",
     "text": [
      "['Thomas', 'Robert', 'Paul', 'Mary', 'Lisa', 'Laura', 'James', 'Betty']\n"
     ]
    }
   ],
   "source": [
    "myFriends.reverse()\n",
    "print(myFriends)"
   ]
  },
  {
   "cell_type": "markdown",
   "metadata": {},
   "source": [
    "> function 뒤에 shift tab : **Docstring**\n",
    "\n",
    "함수 역할 설명해줌"
   ]
  },
  {
   "cell_type": "markdown",
   "metadata": {},
   "source": [
    "## Tuple"
   ]
  },
  {
   "cell_type": "markdown",
   "metadata": {},
   "source": [
    "다음 시간에"
   ]
  }
 ],
 "metadata": {
  "kernelspec": {
   "display_name": "Python 3",
   "language": "python",
   "name": "python3"
  },
  "language_info": {
   "codemirror_mode": {
    "name": "ipython",
    "version": 3
   },
   "file_extension": ".py",
   "mimetype": "text/x-python",
   "name": "python",
   "nbconvert_exporter": "python",
   "pygments_lexer": "ipython3",
   "version": "3.6.9"
  }
 },
 "nbformat": 4,
 "nbformat_minor": 2
}
